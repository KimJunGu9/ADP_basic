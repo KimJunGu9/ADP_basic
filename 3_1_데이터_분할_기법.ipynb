{
  "nbformat": 4,
  "nbformat_minor": 0,
  "metadata": {
    "colab": {
      "provenance": [],
      "authorship_tag": "ABX9TyMJW/eXBMEZX+tY4s87JcTu",
      "include_colab_link": true
    },
    "kernelspec": {
      "name": "python3",
      "display_name": "Python 3"
    },
    "language_info": {
      "name": "python"
    }
  },
  "cells": [
    {
      "cell_type": "markdown",
      "metadata": {
        "id": "view-in-github",
        "colab_type": "text"
      },
      "source": [
        "<a href=\"https://colab.research.google.com/github/KimJunGu9/ADP_basic/blob/main/3_1_%EB%8D%B0%EC%9D%B4%ED%84%B0_%EB%B6%84%ED%95%A0_%EA%B8%B0%EB%B2%95.ipynb\" target=\"_parent\"><img src=\"https://colab.research.google.com/assets/colab-badge.svg\" alt=\"Open In Colab\"/></a>"
      ]
    },
    {
      "cell_type": "markdown",
      "source": [
        "# 데이터 샘플링\n",
        "\n",
        "- 데이터 분석을 진행할 때, 전체 데이터를 모두 활용하는 것은 수많은 시간과 비용이 들 수 있다. \n",
        "- 본 장에서는 데이터 샘플링의 방법과 python을 활용한 표본 추출에 대해 학습한다.\n",
        "\n",
        "# 통계\n",
        "- 통계란 특정집단을 대상으로 수행한 조사나 실험을 통해 나온 결과에 대한 요약된 형태의 표현이다. \n",
        "- 조사 또는 실험을 통해 데이터를 확보하며, 조사대상에 따라 총조사와 표본조사로 구분한다. \n",
        "\n",
        "\n",
        "\n",
        "# 통계자료의 흭득 방법 \n",
        "가. 총 조사/ 전수조사 \n",
        "* 총 조사란 대상 집단 모두를 조사하는 방법이며, 특별한 경우를 제외하고는 사용되지 않는다. \n",
        "\n",
        "나. 표본조사\n",
        "* 모집단(population) : 조사하고자 하는 대상 집단 전체 \n",
        "* 원소(element) : 모집단을 구성하는 개체 \n",
        "* 표본(sample) : 조사하기 위해 추출한 모집단의 일부 원소 \n",
        "* 모수(parameter) : 표본 관측에 의해 구하고자 하는 모집단에 대한 정보 \n",
        "* 모집단의 정의, 표본의 크기, 조사방법, 조사기간, 표본추출방법을 명확하게 정의해야 한다. \n",
        "\n"
      ],
      "metadata": {
        "id": "043ywrIzUdwY"
      }
    },
    {
      "cell_type": "markdown",
      "source": [
        "\n",
        "# 표본 추출 방법\n",
        "* 표본조사에서 중요한 점은 모집단을 대표할 수 있는 표본의 추출이며, 표본 추출 방법에 따라 분석 결과의 해석은 큰 차이가 발생한다. \n",
        "\n",
        "가. 단순 임의 추출법 \n",
        "* 각 개체에 번호를 부여하여 랜덤하게 n개를 추출하는 방법으로 모든 개체는 선택될 확률이 동일하다. \n",
        "* 복원, 비복원 추출로 나누어진다. \n",
        "\n",
        "\n",
        "나. 계통추출법 \n",
        "* 랜덤하게 정렬된 표본에서 시간 혹은 공간적으로 일정한 간격을 두고 표본을 추출하는 방법이다. \n",
        "* 단순랜덤추출법의 변형된 방식으로 번호를 부여한 샘플을 나열하여 K개씩 n개의 구간으로 나누고 첫 구간에서 하나를 임의로 선택한 후에 K개씩 띄어서 표본을 선택한다. 즉 임의의 위치에서 매 k번째 항목을 추출하는 방법이다. \n",
        "\n",
        "다. 집락추출법\n",
        "* 군집을 구분하고 특정 군집을 먼저 선택한 후 해당 군집에서만 표본을 추출하는 방법이다. \n",
        "\n",
        "라. 층화추출법\n",
        "* 모집단이 이질적인 몇 개의 계층으로 이루어져 있을 때 모든 계층으로부터 원소를 임의로 추출하여 각 계층을 고루 대표할 수 있도록 랜덤하게 표본을 추출하는 방법이다. \n",
        "\n",
        "\n"
      ],
      "metadata": {
        "id": "K80Yf8WWUk9e"
      }
    },
    {
      "cell_type": "markdown",
      "source": [
        "# Python을 이용한 표본 추출 \n",
        "\n",
        "# 단순 임의 추출 \n",
        "* 일반적으로 데이터를 training data와 test data로 분할할 때 가장 많이 사용하는 표본추출 방법이다. \n",
        "\n",
        "함수사용법 : DataFrame.sample(frac=0.7, random_state=2000)\n",
        "* n : 추출할 표본 개수 \n",
        "* frac : 추출할 표본 크기 비율 \n",
        "* replace : boolean, True이면 복원추출, False이면 비복원 추출 "
      ],
      "metadata": {
        "id": "av13SEuGUrPb"
      }
    },
    {
      "cell_type": "code",
      "execution_count": 2,
      "metadata": {
        "id": "1i67TDtgRFBu"
      },
      "outputs": [],
      "source": [
        "# [예제1] iris 데이터로 분석을 진행하기 위해 전체 데이터의 7:3 비율로 training data와 test data를 추출한 뒤 새로운 변수에 저장해보자 ( 데이터 추출 방법은 단순 임의 추출을 이용한다.)"
      ]
    },
    {
      "cell_type": "code",
      "source": [
        "import pandas as pd \n",
        "import numpy as np"
      ],
      "metadata": {
        "id": "IJu0zIKnUzoG"
      },
      "execution_count": 3,
      "outputs": []
    },
    {
      "cell_type": "code",
      "source": [
        "from google.colab import drive\n",
        "drive.mount('/content/drive')"
      ],
      "metadata": {
        "colab": {
          "base_uri": "https://localhost:8080/"
        },
        "id": "HWauKYf6U1rJ",
        "outputId": "c75d8787-69e9-4f82-e64b-7119385134b1"
      },
      "execution_count": 4,
      "outputs": [
        {
          "output_type": "stream",
          "name": "stdout",
          "text": [
            "Mounted at /content/drive\n"
          ]
        }
      ]
    },
    {
      "cell_type": "code",
      "source": [
        "iris = pd.read_csv('/content/drive/MyDrive/ADP/Part.1/새 폴더/2. 데이터 핸들링/2.1.DataFrame 기본/example.csv')"
      ],
      "metadata": {
        "id": "YtuD-RU4U7Zu"
      },
      "execution_count": 5,
      "outputs": []
    },
    {
      "cell_type": "code",
      "source": [
        "iris"
      ],
      "metadata": {
        "colab": {
          "base_uri": "https://localhost:8080/",
          "height": 423
        },
        "id": "Xm_jX2ehVBa1",
        "outputId": "59f24f1e-0046-4612-92c2-5077aa72814e"
      },
      "execution_count": 6,
      "outputs": [
        {
          "output_type": "execute_result",
          "data": {
            "text/plain": [
              "     sepal length  sepal width  petal length  petal width          target\n",
              "0             5.1          3.5           1.4          0.2     Iris-setosa\n",
              "1             4.9          3.0           1.4          0.2     Iris-setosa\n",
              "2             4.7          3.2           1.3          0.2     Iris-setosa\n",
              "3             4.6          3.1           1.5          0.2     Iris-setosa\n",
              "4             5.0          3.6           1.4          0.2     Iris-setosa\n",
              "..            ...          ...           ...          ...             ...\n",
              "145           6.7          3.0           5.2          2.3  Iris-virginica\n",
              "146           6.3          2.5           5.0          1.9  Iris-virginica\n",
              "147           6.5          3.0           5.2          2.0  Iris-virginica\n",
              "148           6.2          3.4           5.4          2.3  Iris-virginica\n",
              "149           5.9          3.0           5.1          1.8  Iris-virginica\n",
              "\n",
              "[150 rows x 5 columns]"
            ],
            "text/html": [
              "\n",
              "  <div id=\"df-0dbe9b7a-5868-4d67-a038-47a8e21aa032\">\n",
              "    <div class=\"colab-df-container\">\n",
              "      <div>\n",
              "<style scoped>\n",
              "    .dataframe tbody tr th:only-of-type {\n",
              "        vertical-align: middle;\n",
              "    }\n",
              "\n",
              "    .dataframe tbody tr th {\n",
              "        vertical-align: top;\n",
              "    }\n",
              "\n",
              "    .dataframe thead th {\n",
              "        text-align: right;\n",
              "    }\n",
              "</style>\n",
              "<table border=\"1\" class=\"dataframe\">\n",
              "  <thead>\n",
              "    <tr style=\"text-align: right;\">\n",
              "      <th></th>\n",
              "      <th>sepal length</th>\n",
              "      <th>sepal width</th>\n",
              "      <th>petal length</th>\n",
              "      <th>petal width</th>\n",
              "      <th>target</th>\n",
              "    </tr>\n",
              "  </thead>\n",
              "  <tbody>\n",
              "    <tr>\n",
              "      <th>0</th>\n",
              "      <td>5.1</td>\n",
              "      <td>3.5</td>\n",
              "      <td>1.4</td>\n",
              "      <td>0.2</td>\n",
              "      <td>Iris-setosa</td>\n",
              "    </tr>\n",
              "    <tr>\n",
              "      <th>1</th>\n",
              "      <td>4.9</td>\n",
              "      <td>3.0</td>\n",
              "      <td>1.4</td>\n",
              "      <td>0.2</td>\n",
              "      <td>Iris-setosa</td>\n",
              "    </tr>\n",
              "    <tr>\n",
              "      <th>2</th>\n",
              "      <td>4.7</td>\n",
              "      <td>3.2</td>\n",
              "      <td>1.3</td>\n",
              "      <td>0.2</td>\n",
              "      <td>Iris-setosa</td>\n",
              "    </tr>\n",
              "    <tr>\n",
              "      <th>3</th>\n",
              "      <td>4.6</td>\n",
              "      <td>3.1</td>\n",
              "      <td>1.5</td>\n",
              "      <td>0.2</td>\n",
              "      <td>Iris-setosa</td>\n",
              "    </tr>\n",
              "    <tr>\n",
              "      <th>4</th>\n",
              "      <td>5.0</td>\n",
              "      <td>3.6</td>\n",
              "      <td>1.4</td>\n",
              "      <td>0.2</td>\n",
              "      <td>Iris-setosa</td>\n",
              "    </tr>\n",
              "    <tr>\n",
              "      <th>...</th>\n",
              "      <td>...</td>\n",
              "      <td>...</td>\n",
              "      <td>...</td>\n",
              "      <td>...</td>\n",
              "      <td>...</td>\n",
              "    </tr>\n",
              "    <tr>\n",
              "      <th>145</th>\n",
              "      <td>6.7</td>\n",
              "      <td>3.0</td>\n",
              "      <td>5.2</td>\n",
              "      <td>2.3</td>\n",
              "      <td>Iris-virginica</td>\n",
              "    </tr>\n",
              "    <tr>\n",
              "      <th>146</th>\n",
              "      <td>6.3</td>\n",
              "      <td>2.5</td>\n",
              "      <td>5.0</td>\n",
              "      <td>1.9</td>\n",
              "      <td>Iris-virginica</td>\n",
              "    </tr>\n",
              "    <tr>\n",
              "      <th>147</th>\n",
              "      <td>6.5</td>\n",
              "      <td>3.0</td>\n",
              "      <td>5.2</td>\n",
              "      <td>2.0</td>\n",
              "      <td>Iris-virginica</td>\n",
              "    </tr>\n",
              "    <tr>\n",
              "      <th>148</th>\n",
              "      <td>6.2</td>\n",
              "      <td>3.4</td>\n",
              "      <td>5.4</td>\n",
              "      <td>2.3</td>\n",
              "      <td>Iris-virginica</td>\n",
              "    </tr>\n",
              "    <tr>\n",
              "      <th>149</th>\n",
              "      <td>5.9</td>\n",
              "      <td>3.0</td>\n",
              "      <td>5.1</td>\n",
              "      <td>1.8</td>\n",
              "      <td>Iris-virginica</td>\n",
              "    </tr>\n",
              "  </tbody>\n",
              "</table>\n",
              "<p>150 rows × 5 columns</p>\n",
              "</div>\n",
              "      <button class=\"colab-df-convert\" onclick=\"convertToInteractive('df-0dbe9b7a-5868-4d67-a038-47a8e21aa032')\"\n",
              "              title=\"Convert this dataframe to an interactive table.\"\n",
              "              style=\"display:none;\">\n",
              "        \n",
              "  <svg xmlns=\"http://www.w3.org/2000/svg\" height=\"24px\"viewBox=\"0 0 24 24\"\n",
              "       width=\"24px\">\n",
              "    <path d=\"M0 0h24v24H0V0z\" fill=\"none\"/>\n",
              "    <path d=\"M18.56 5.44l.94 2.06.94-2.06 2.06-.94-2.06-.94-.94-2.06-.94 2.06-2.06.94zm-11 1L8.5 8.5l.94-2.06 2.06-.94-2.06-.94L8.5 2.5l-.94 2.06-2.06.94zm10 10l.94 2.06.94-2.06 2.06-.94-2.06-.94-.94-2.06-.94 2.06-2.06.94z\"/><path d=\"M17.41 7.96l-1.37-1.37c-.4-.4-.92-.59-1.43-.59-.52 0-1.04.2-1.43.59L10.3 9.45l-7.72 7.72c-.78.78-.78 2.05 0 2.83L4 21.41c.39.39.9.59 1.41.59.51 0 1.02-.2 1.41-.59l7.78-7.78 2.81-2.81c.8-.78.8-2.07 0-2.86zM5.41 20L4 18.59l7.72-7.72 1.47 1.35L5.41 20z\"/>\n",
              "  </svg>\n",
              "      </button>\n",
              "      \n",
              "  <style>\n",
              "    .colab-df-container {\n",
              "      display:flex;\n",
              "      flex-wrap:wrap;\n",
              "      gap: 12px;\n",
              "    }\n",
              "\n",
              "    .colab-df-convert {\n",
              "      background-color: #E8F0FE;\n",
              "      border: none;\n",
              "      border-radius: 50%;\n",
              "      cursor: pointer;\n",
              "      display: none;\n",
              "      fill: #1967D2;\n",
              "      height: 32px;\n",
              "      padding: 0 0 0 0;\n",
              "      width: 32px;\n",
              "    }\n",
              "\n",
              "    .colab-df-convert:hover {\n",
              "      background-color: #E2EBFA;\n",
              "      box-shadow: 0px 1px 2px rgba(60, 64, 67, 0.3), 0px 1px 3px 1px rgba(60, 64, 67, 0.15);\n",
              "      fill: #174EA6;\n",
              "    }\n",
              "\n",
              "    [theme=dark] .colab-df-convert {\n",
              "      background-color: #3B4455;\n",
              "      fill: #D2E3FC;\n",
              "    }\n",
              "\n",
              "    [theme=dark] .colab-df-convert:hover {\n",
              "      background-color: #434B5C;\n",
              "      box-shadow: 0px 1px 3px 1px rgba(0, 0, 0, 0.15);\n",
              "      filter: drop-shadow(0px 1px 2px rgba(0, 0, 0, 0.3));\n",
              "      fill: #FFFFFF;\n",
              "    }\n",
              "  </style>\n",
              "\n",
              "      <script>\n",
              "        const buttonEl =\n",
              "          document.querySelector('#df-0dbe9b7a-5868-4d67-a038-47a8e21aa032 button.colab-df-convert');\n",
              "        buttonEl.style.display =\n",
              "          google.colab.kernel.accessAllowed ? 'block' : 'none';\n",
              "\n",
              "        async function convertToInteractive(key) {\n",
              "          const element = document.querySelector('#df-0dbe9b7a-5868-4d67-a038-47a8e21aa032');\n",
              "          const dataTable =\n",
              "            await google.colab.kernel.invokeFunction('convertToInteractive',\n",
              "                                                     [key], {});\n",
              "          if (!dataTable) return;\n",
              "\n",
              "          const docLinkHtml = 'Like what you see? Visit the ' +\n",
              "            '<a target=\"_blank\" href=https://colab.research.google.com/notebooks/data_table.ipynb>data table notebook</a>'\n",
              "            + ' to learn more about interactive tables.';\n",
              "          element.innerHTML = '';\n",
              "          dataTable['output_type'] = 'display_data';\n",
              "          await google.colab.output.renderOutput(dataTable, element);\n",
              "          const docLink = document.createElement('div');\n",
              "          docLink.innerHTML = docLinkHtml;\n",
              "          element.appendChild(docLink);\n",
              "        }\n",
              "      </script>\n",
              "    </div>\n",
              "  </div>\n",
              "  "
            ]
          },
          "metadata": {},
          "execution_count": 6
        }
      ]
    },
    {
      "cell_type": "code",
      "source": [
        "iris.info()"
      ],
      "metadata": {
        "colab": {
          "base_uri": "https://localhost:8080/"
        },
        "id": "keQM8gYuVCL_",
        "outputId": "b765bd35-d4f5-41a8-eaef-883334484940"
      },
      "execution_count": 7,
      "outputs": [
        {
          "output_type": "stream",
          "name": "stdout",
          "text": [
            "<class 'pandas.core.frame.DataFrame'>\n",
            "RangeIndex: 150 entries, 0 to 149\n",
            "Data columns (total 5 columns):\n",
            " #   Column        Non-Null Count  Dtype  \n",
            "---  ------        --------------  -----  \n",
            " 0   sepal length  150 non-null    float64\n",
            " 1   sepal width   150 non-null    float64\n",
            " 2   petal length  150 non-null    float64\n",
            " 3   petal width   150 non-null    float64\n",
            " 4   target        150 non-null    object \n",
            "dtypes: float64(4), object(1)\n",
            "memory usage: 6.0+ KB\n"
          ]
        }
      ]
    },
    {
      "cell_type": "code",
      "source": [
        "training = iris.sample(frac=0.7, random_state=2000)"
      ],
      "metadata": {
        "id": "mhVVWO7WVDxt"
      },
      "execution_count": 8,
      "outputs": []
    },
    {
      "cell_type": "code",
      "source": [
        "training.info()"
      ],
      "metadata": {
        "colab": {
          "base_uri": "https://localhost:8080/"
        },
        "id": "naBKTMhgVOs2",
        "outputId": "886f52e7-1f1f-4959-8219-aa54986c9192"
      },
      "execution_count": 9,
      "outputs": [
        {
          "output_type": "stream",
          "name": "stdout",
          "text": [
            "<class 'pandas.core.frame.DataFrame'>\n",
            "Int64Index: 105 entries, 19 to 24\n",
            "Data columns (total 5 columns):\n",
            " #   Column        Non-Null Count  Dtype  \n",
            "---  ------        --------------  -----  \n",
            " 0   sepal length  105 non-null    float64\n",
            " 1   sepal width   105 non-null    float64\n",
            " 2   petal length  105 non-null    float64\n",
            " 3   petal width   105 non-null    float64\n",
            " 4   target        105 non-null    object \n",
            "dtypes: float64(4), object(1)\n",
            "memory usage: 4.9+ KB\n"
          ]
        }
      ]
    },
    {
      "cell_type": "code",
      "source": [
        "iris['target'].value_counts()"
      ],
      "metadata": {
        "colab": {
          "base_uri": "https://localhost:8080/"
        },
        "id": "Xy53ooYYVPbA",
        "outputId": "6f64ad18-bd39-4635-94e2-a9fc045242b1"
      },
      "execution_count": 10,
      "outputs": [
        {
          "output_type": "execute_result",
          "data": {
            "text/plain": [
              "Iris-setosa        50\n",
              "Iris-versicolor    50\n",
              "Iris-virginica     50\n",
              "Name: target, dtype: int64"
            ]
          },
          "metadata": {},
          "execution_count": 10
        }
      ]
    },
    {
      "cell_type": "code",
      "source": [
        "training['target'].value_counts()"
      ],
      "metadata": {
        "colab": {
          "base_uri": "https://localhost:8080/"
        },
        "id": "FBGsyqqdVQXY",
        "outputId": "cde3aaa5-771e-4a0d-b236-fcb2ac484e1c"
      },
      "execution_count": 11,
      "outputs": [
        {
          "output_type": "execute_result",
          "data": {
            "text/plain": [
              "Iris-virginica     38\n",
              "Iris-versicolor    35\n",
              "Iris-setosa        32\n",
              "Name: target, dtype: int64"
            ]
          },
          "metadata": {},
          "execution_count": 11
        }
      ]
    },
    {
      "cell_type": "code",
      "source": [
        "training = iris.sample(frac=0.7, random_state=52)\n",
        "test = iris.sample(frac=0.3, random_state=48)"
      ],
      "metadata": {
        "id": "k3P9wEyWVShj"
      },
      "execution_count": 12,
      "outputs": []
    },
    {
      "cell_type": "code",
      "source": [
        "training.index"
      ],
      "metadata": {
        "colab": {
          "base_uri": "https://localhost:8080/"
        },
        "id": "6R5HJldzVTnE",
        "outputId": "01dc6dc0-07d0-4635-cac3-48074a90ecc4"
      },
      "execution_count": 13,
      "outputs": [
        {
          "output_type": "execute_result",
          "data": {
            "text/plain": [
              "Int64Index([ 43,  37, 143, 145, 107,  52,  60,  41, 122, 131,\n",
              "            ...\n",
              "            112, 141,  75, 132,  12,  59,  46, 128, 148,  10],\n",
              "           dtype='int64', length=105)"
            ]
          },
          "metadata": {},
          "execution_count": 13
        }
      ]
    },
    {
      "cell_type": "code",
      "source": [
        "len(iris)"
      ],
      "metadata": {
        "colab": {
          "base_uri": "https://localhost:8080/"
        },
        "id": "iEapzlleVUZG",
        "outputId": "68454b9d-a63d-45fd-a9e0-756a92b76863"
      },
      "execution_count": 14,
      "outputs": [
        {
          "output_type": "execute_result",
          "data": {
            "text/plain": [
              "150"
            ]
          },
          "metadata": {},
          "execution_count": 14
        }
      ]
    },
    {
      "cell_type": "code",
      "source": [
        "len(training)"
      ],
      "metadata": {
        "colab": {
          "base_uri": "https://localhost:8080/"
        },
        "id": "DKegUuJ8VVir",
        "outputId": "46a0ce1b-cca8-42fd-8a24-7b35f1d0191c"
      },
      "execution_count": 15,
      "outputs": [
        {
          "output_type": "execute_result",
          "data": {
            "text/plain": [
              "105"
            ]
          },
          "metadata": {},
          "execution_count": 15
        }
      ]
    },
    {
      "cell_type": "code",
      "source": [
        "len(test)"
      ],
      "metadata": {
        "colab": {
          "base_uri": "https://localhost:8080/"
        },
        "id": "RCh5vHgmVWb7",
        "outputId": "3a10cbda-b190-47a1-e78f-df668df46771"
      },
      "execution_count": 16,
      "outputs": [
        {
          "output_type": "execute_result",
          "data": {
            "text/plain": [
              "45"
            ]
          },
          "metadata": {},
          "execution_count": 16
        }
      ]
    },
    {
      "cell_type": "code",
      "source": [
        "training[training.index.isin(test.index)]"
      ],
      "metadata": {
        "colab": {
          "base_uri": "https://localhost:8080/",
          "height": 1000
        },
        "id": "USrofOo2VXD4",
        "outputId": "c06b6ebc-dbb8-4478-d42d-1fe9c0148256"
      },
      "execution_count": 17,
      "outputs": [
        {
          "output_type": "execute_result",
          "data": {
            "text/plain": [
              "     sepal length  sepal width  petal length  petal width           target\n",
              "41            4.5          2.3           1.3          0.3      Iris-setosa\n",
              "116           6.5          3.0           5.5          1.8   Iris-virginica\n",
              "79            5.7          2.6           3.5          1.0  Iris-versicolor\n",
              "96            5.7          2.9           4.2          1.3  Iris-versicolor\n",
              "126           6.2          2.8           4.8          1.8   Iris-virginica\n",
              "53            5.5          2.3           4.0          1.3  Iris-versicolor\n",
              "69            5.6          2.5           3.9          1.1  Iris-versicolor\n",
              "19            5.1          3.8           1.5          0.3      Iris-setosa\n",
              "72            6.3          2.5           4.9          1.5  Iris-versicolor\n",
              "84            5.4          3.0           4.5          1.5  Iris-versicolor\n",
              "56            6.3          3.3           4.7          1.6  Iris-versicolor\n",
              "4             5.0          3.6           1.4          0.2      Iris-setosa\n",
              "62            6.0          2.2           4.0          1.0  Iris-versicolor\n",
              "70            5.9          3.2           4.8          1.8  Iris-versicolor\n",
              "31            5.4          3.4           1.5          0.4      Iris-setosa\n",
              "88            5.6          3.0           4.1          1.3  Iris-versicolor\n",
              "134           6.1          2.6           5.6          1.4   Iris-virginica\n",
              "8             4.4          2.9           1.4          0.2      Iris-setosa\n",
              "129           7.2          3.0           5.8          1.6   Iris-virginica\n",
              "149           5.9          3.0           5.1          1.8   Iris-virginica\n",
              "36            5.5          3.5           1.3          0.2      Iris-setosa\n",
              "103           6.3          2.9           5.6          1.8   Iris-virginica\n",
              "111           6.4          2.7           5.3          1.9   Iris-virginica\n",
              "110           6.5          3.2           5.1          2.0   Iris-virginica\n",
              "138           6.0          3.0           4.8          1.8   Iris-virginica\n",
              "78            6.0          2.9           4.5          1.5  Iris-versicolor\n",
              "77            6.7          3.0           5.0          1.7  Iris-versicolor\n",
              "73            6.1          2.8           4.7          1.2  Iris-versicolor\n",
              "127           6.1          3.0           4.9          1.8   Iris-virginica\n",
              "99            5.7          2.8           4.1          1.3  Iris-versicolor\n",
              "136           6.3          3.4           5.6          2.4   Iris-virginica\n",
              "132           6.4          2.8           5.6          2.2   Iris-virginica\n",
              "148           6.2          3.4           5.4          2.3   Iris-virginica"
            ],
            "text/html": [
              "\n",
              "  <div id=\"df-1f7e73b3-7a49-4345-a031-a797ebfe44a3\">\n",
              "    <div class=\"colab-df-container\">\n",
              "      <div>\n",
              "<style scoped>\n",
              "    .dataframe tbody tr th:only-of-type {\n",
              "        vertical-align: middle;\n",
              "    }\n",
              "\n",
              "    .dataframe tbody tr th {\n",
              "        vertical-align: top;\n",
              "    }\n",
              "\n",
              "    .dataframe thead th {\n",
              "        text-align: right;\n",
              "    }\n",
              "</style>\n",
              "<table border=\"1\" class=\"dataframe\">\n",
              "  <thead>\n",
              "    <tr style=\"text-align: right;\">\n",
              "      <th></th>\n",
              "      <th>sepal length</th>\n",
              "      <th>sepal width</th>\n",
              "      <th>petal length</th>\n",
              "      <th>petal width</th>\n",
              "      <th>target</th>\n",
              "    </tr>\n",
              "  </thead>\n",
              "  <tbody>\n",
              "    <tr>\n",
              "      <th>41</th>\n",
              "      <td>4.5</td>\n",
              "      <td>2.3</td>\n",
              "      <td>1.3</td>\n",
              "      <td>0.3</td>\n",
              "      <td>Iris-setosa</td>\n",
              "    </tr>\n",
              "    <tr>\n",
              "      <th>116</th>\n",
              "      <td>6.5</td>\n",
              "      <td>3.0</td>\n",
              "      <td>5.5</td>\n",
              "      <td>1.8</td>\n",
              "      <td>Iris-virginica</td>\n",
              "    </tr>\n",
              "    <tr>\n",
              "      <th>79</th>\n",
              "      <td>5.7</td>\n",
              "      <td>2.6</td>\n",
              "      <td>3.5</td>\n",
              "      <td>1.0</td>\n",
              "      <td>Iris-versicolor</td>\n",
              "    </tr>\n",
              "    <tr>\n",
              "      <th>96</th>\n",
              "      <td>5.7</td>\n",
              "      <td>2.9</td>\n",
              "      <td>4.2</td>\n",
              "      <td>1.3</td>\n",
              "      <td>Iris-versicolor</td>\n",
              "    </tr>\n",
              "    <tr>\n",
              "      <th>126</th>\n",
              "      <td>6.2</td>\n",
              "      <td>2.8</td>\n",
              "      <td>4.8</td>\n",
              "      <td>1.8</td>\n",
              "      <td>Iris-virginica</td>\n",
              "    </tr>\n",
              "    <tr>\n",
              "      <th>53</th>\n",
              "      <td>5.5</td>\n",
              "      <td>2.3</td>\n",
              "      <td>4.0</td>\n",
              "      <td>1.3</td>\n",
              "      <td>Iris-versicolor</td>\n",
              "    </tr>\n",
              "    <tr>\n",
              "      <th>69</th>\n",
              "      <td>5.6</td>\n",
              "      <td>2.5</td>\n",
              "      <td>3.9</td>\n",
              "      <td>1.1</td>\n",
              "      <td>Iris-versicolor</td>\n",
              "    </tr>\n",
              "    <tr>\n",
              "      <th>19</th>\n",
              "      <td>5.1</td>\n",
              "      <td>3.8</td>\n",
              "      <td>1.5</td>\n",
              "      <td>0.3</td>\n",
              "      <td>Iris-setosa</td>\n",
              "    </tr>\n",
              "    <tr>\n",
              "      <th>72</th>\n",
              "      <td>6.3</td>\n",
              "      <td>2.5</td>\n",
              "      <td>4.9</td>\n",
              "      <td>1.5</td>\n",
              "      <td>Iris-versicolor</td>\n",
              "    </tr>\n",
              "    <tr>\n",
              "      <th>84</th>\n",
              "      <td>5.4</td>\n",
              "      <td>3.0</td>\n",
              "      <td>4.5</td>\n",
              "      <td>1.5</td>\n",
              "      <td>Iris-versicolor</td>\n",
              "    </tr>\n",
              "    <tr>\n",
              "      <th>56</th>\n",
              "      <td>6.3</td>\n",
              "      <td>3.3</td>\n",
              "      <td>4.7</td>\n",
              "      <td>1.6</td>\n",
              "      <td>Iris-versicolor</td>\n",
              "    </tr>\n",
              "    <tr>\n",
              "      <th>4</th>\n",
              "      <td>5.0</td>\n",
              "      <td>3.6</td>\n",
              "      <td>1.4</td>\n",
              "      <td>0.2</td>\n",
              "      <td>Iris-setosa</td>\n",
              "    </tr>\n",
              "    <tr>\n",
              "      <th>62</th>\n",
              "      <td>6.0</td>\n",
              "      <td>2.2</td>\n",
              "      <td>4.0</td>\n",
              "      <td>1.0</td>\n",
              "      <td>Iris-versicolor</td>\n",
              "    </tr>\n",
              "    <tr>\n",
              "      <th>70</th>\n",
              "      <td>5.9</td>\n",
              "      <td>3.2</td>\n",
              "      <td>4.8</td>\n",
              "      <td>1.8</td>\n",
              "      <td>Iris-versicolor</td>\n",
              "    </tr>\n",
              "    <tr>\n",
              "      <th>31</th>\n",
              "      <td>5.4</td>\n",
              "      <td>3.4</td>\n",
              "      <td>1.5</td>\n",
              "      <td>0.4</td>\n",
              "      <td>Iris-setosa</td>\n",
              "    </tr>\n",
              "    <tr>\n",
              "      <th>88</th>\n",
              "      <td>5.6</td>\n",
              "      <td>3.0</td>\n",
              "      <td>4.1</td>\n",
              "      <td>1.3</td>\n",
              "      <td>Iris-versicolor</td>\n",
              "    </tr>\n",
              "    <tr>\n",
              "      <th>134</th>\n",
              "      <td>6.1</td>\n",
              "      <td>2.6</td>\n",
              "      <td>5.6</td>\n",
              "      <td>1.4</td>\n",
              "      <td>Iris-virginica</td>\n",
              "    </tr>\n",
              "    <tr>\n",
              "      <th>8</th>\n",
              "      <td>4.4</td>\n",
              "      <td>2.9</td>\n",
              "      <td>1.4</td>\n",
              "      <td>0.2</td>\n",
              "      <td>Iris-setosa</td>\n",
              "    </tr>\n",
              "    <tr>\n",
              "      <th>129</th>\n",
              "      <td>7.2</td>\n",
              "      <td>3.0</td>\n",
              "      <td>5.8</td>\n",
              "      <td>1.6</td>\n",
              "      <td>Iris-virginica</td>\n",
              "    </tr>\n",
              "    <tr>\n",
              "      <th>149</th>\n",
              "      <td>5.9</td>\n",
              "      <td>3.0</td>\n",
              "      <td>5.1</td>\n",
              "      <td>1.8</td>\n",
              "      <td>Iris-virginica</td>\n",
              "    </tr>\n",
              "    <tr>\n",
              "      <th>36</th>\n",
              "      <td>5.5</td>\n",
              "      <td>3.5</td>\n",
              "      <td>1.3</td>\n",
              "      <td>0.2</td>\n",
              "      <td>Iris-setosa</td>\n",
              "    </tr>\n",
              "    <tr>\n",
              "      <th>103</th>\n",
              "      <td>6.3</td>\n",
              "      <td>2.9</td>\n",
              "      <td>5.6</td>\n",
              "      <td>1.8</td>\n",
              "      <td>Iris-virginica</td>\n",
              "    </tr>\n",
              "    <tr>\n",
              "      <th>111</th>\n",
              "      <td>6.4</td>\n",
              "      <td>2.7</td>\n",
              "      <td>5.3</td>\n",
              "      <td>1.9</td>\n",
              "      <td>Iris-virginica</td>\n",
              "    </tr>\n",
              "    <tr>\n",
              "      <th>110</th>\n",
              "      <td>6.5</td>\n",
              "      <td>3.2</td>\n",
              "      <td>5.1</td>\n",
              "      <td>2.0</td>\n",
              "      <td>Iris-virginica</td>\n",
              "    </tr>\n",
              "    <tr>\n",
              "      <th>138</th>\n",
              "      <td>6.0</td>\n",
              "      <td>3.0</td>\n",
              "      <td>4.8</td>\n",
              "      <td>1.8</td>\n",
              "      <td>Iris-virginica</td>\n",
              "    </tr>\n",
              "    <tr>\n",
              "      <th>78</th>\n",
              "      <td>6.0</td>\n",
              "      <td>2.9</td>\n",
              "      <td>4.5</td>\n",
              "      <td>1.5</td>\n",
              "      <td>Iris-versicolor</td>\n",
              "    </tr>\n",
              "    <tr>\n",
              "      <th>77</th>\n",
              "      <td>6.7</td>\n",
              "      <td>3.0</td>\n",
              "      <td>5.0</td>\n",
              "      <td>1.7</td>\n",
              "      <td>Iris-versicolor</td>\n",
              "    </tr>\n",
              "    <tr>\n",
              "      <th>73</th>\n",
              "      <td>6.1</td>\n",
              "      <td>2.8</td>\n",
              "      <td>4.7</td>\n",
              "      <td>1.2</td>\n",
              "      <td>Iris-versicolor</td>\n",
              "    </tr>\n",
              "    <tr>\n",
              "      <th>127</th>\n",
              "      <td>6.1</td>\n",
              "      <td>3.0</td>\n",
              "      <td>4.9</td>\n",
              "      <td>1.8</td>\n",
              "      <td>Iris-virginica</td>\n",
              "    </tr>\n",
              "    <tr>\n",
              "      <th>99</th>\n",
              "      <td>5.7</td>\n",
              "      <td>2.8</td>\n",
              "      <td>4.1</td>\n",
              "      <td>1.3</td>\n",
              "      <td>Iris-versicolor</td>\n",
              "    </tr>\n",
              "    <tr>\n",
              "      <th>136</th>\n",
              "      <td>6.3</td>\n",
              "      <td>3.4</td>\n",
              "      <td>5.6</td>\n",
              "      <td>2.4</td>\n",
              "      <td>Iris-virginica</td>\n",
              "    </tr>\n",
              "    <tr>\n",
              "      <th>132</th>\n",
              "      <td>6.4</td>\n",
              "      <td>2.8</td>\n",
              "      <td>5.6</td>\n",
              "      <td>2.2</td>\n",
              "      <td>Iris-virginica</td>\n",
              "    </tr>\n",
              "    <tr>\n",
              "      <th>148</th>\n",
              "      <td>6.2</td>\n",
              "      <td>3.4</td>\n",
              "      <td>5.4</td>\n",
              "      <td>2.3</td>\n",
              "      <td>Iris-virginica</td>\n",
              "    </tr>\n",
              "  </tbody>\n",
              "</table>\n",
              "</div>\n",
              "      <button class=\"colab-df-convert\" onclick=\"convertToInteractive('df-1f7e73b3-7a49-4345-a031-a797ebfe44a3')\"\n",
              "              title=\"Convert this dataframe to an interactive table.\"\n",
              "              style=\"display:none;\">\n",
              "        \n",
              "  <svg xmlns=\"http://www.w3.org/2000/svg\" height=\"24px\"viewBox=\"0 0 24 24\"\n",
              "       width=\"24px\">\n",
              "    <path d=\"M0 0h24v24H0V0z\" fill=\"none\"/>\n",
              "    <path d=\"M18.56 5.44l.94 2.06.94-2.06 2.06-.94-2.06-.94-.94-2.06-.94 2.06-2.06.94zm-11 1L8.5 8.5l.94-2.06 2.06-.94-2.06-.94L8.5 2.5l-.94 2.06-2.06.94zm10 10l.94 2.06.94-2.06 2.06-.94-2.06-.94-.94-2.06-.94 2.06-2.06.94z\"/><path d=\"M17.41 7.96l-1.37-1.37c-.4-.4-.92-.59-1.43-.59-.52 0-1.04.2-1.43.59L10.3 9.45l-7.72 7.72c-.78.78-.78 2.05 0 2.83L4 21.41c.39.39.9.59 1.41.59.51 0 1.02-.2 1.41-.59l7.78-7.78 2.81-2.81c.8-.78.8-2.07 0-2.86zM5.41 20L4 18.59l7.72-7.72 1.47 1.35L5.41 20z\"/>\n",
              "  </svg>\n",
              "      </button>\n",
              "      \n",
              "  <style>\n",
              "    .colab-df-container {\n",
              "      display:flex;\n",
              "      flex-wrap:wrap;\n",
              "      gap: 12px;\n",
              "    }\n",
              "\n",
              "    .colab-df-convert {\n",
              "      background-color: #E8F0FE;\n",
              "      border: none;\n",
              "      border-radius: 50%;\n",
              "      cursor: pointer;\n",
              "      display: none;\n",
              "      fill: #1967D2;\n",
              "      height: 32px;\n",
              "      padding: 0 0 0 0;\n",
              "      width: 32px;\n",
              "    }\n",
              "\n",
              "    .colab-df-convert:hover {\n",
              "      background-color: #E2EBFA;\n",
              "      box-shadow: 0px 1px 2px rgba(60, 64, 67, 0.3), 0px 1px 3px 1px rgba(60, 64, 67, 0.15);\n",
              "      fill: #174EA6;\n",
              "    }\n",
              "\n",
              "    [theme=dark] .colab-df-convert {\n",
              "      background-color: #3B4455;\n",
              "      fill: #D2E3FC;\n",
              "    }\n",
              "\n",
              "    [theme=dark] .colab-df-convert:hover {\n",
              "      background-color: #434B5C;\n",
              "      box-shadow: 0px 1px 3px 1px rgba(0, 0, 0, 0.15);\n",
              "      filter: drop-shadow(0px 1px 2px rgba(0, 0, 0, 0.3));\n",
              "      fill: #FFFFFF;\n",
              "    }\n",
              "  </style>\n",
              "\n",
              "      <script>\n",
              "        const buttonEl =\n",
              "          document.querySelector('#df-1f7e73b3-7a49-4345-a031-a797ebfe44a3 button.colab-df-convert');\n",
              "        buttonEl.style.display =\n",
              "          google.colab.kernel.accessAllowed ? 'block' : 'none';\n",
              "\n",
              "        async function convertToInteractive(key) {\n",
              "          const element = document.querySelector('#df-1f7e73b3-7a49-4345-a031-a797ebfe44a3');\n",
              "          const dataTable =\n",
              "            await google.colab.kernel.invokeFunction('convertToInteractive',\n",
              "                                                     [key], {});\n",
              "          if (!dataTable) return;\n",
              "\n",
              "          const docLinkHtml = 'Like what you see? Visit the ' +\n",
              "            '<a target=\"_blank\" href=https://colab.research.google.com/notebooks/data_table.ipynb>data table notebook</a>'\n",
              "            + ' to learn more about interactive tables.';\n",
              "          element.innerHTML = '';\n",
              "          dataTable['output_type'] = 'display_data';\n",
              "          await google.colab.output.renderOutput(dataTable, element);\n",
              "          const docLink = document.createElement('div');\n",
              "          docLink.innerHTML = docLinkHtml;\n",
              "          element.appendChild(docLink);\n",
              "        }\n",
              "      </script>\n",
              "    </div>\n",
              "  </div>\n",
              "  "
            ]
          },
          "metadata": {},
          "execution_count": 17
        }
      ]
    },
    {
      "cell_type": "markdown",
      "source": [
        "\n",
        "# 층화 임의 추출 \n",
        "* 특정 데이터가 여성 계층 70%, 남성 계층 30%로 구성되어 있다고 가정해보자. 각 계층을 고루 대표 할 수 있도록 표본을 추출하기 위해서는 여성과 남성 집단에 대해 0.7:0.3의 비율로 데이터를 뽑아야 한다. 이처럼 여성과 남성이라는 계층별로 표본을 추출하는 것을 층화 임의 추출이라고 한다.  \n",
        "<br>\n",
        "<br>\n",
        "<b>from sklearn.model_selection import train_test_split</b><br><br>\n",
        "<b> 함수사용법 : X_train, X_test, y_train, y_test = train_test_split( \n",
        "\n",
        "                                                    X, y\n",
        "\n",
        "                                                    test_size=0.2, \n",
        "\n",
        "                                                    shuffle=True,\n",
        "\n",
        "                                                    stratify=변수, \n",
        "\n",
        "                                                    random_state=1004)\n",
        "\n",
        "\n",
        "</b>\n",
        "\n",
        "* X: 데이터 테이블  \n",
        "* test_size : 테스트 사이즈 비율 \n",
        "* shuffle : True이면 무작위 추출, False이면 체계적 추출  \n",
        "* random_state : 난수 // 임의의 번호 지정하면 되며 같은 번호라면 같은 값이 나온다. \n"
      ],
      "metadata": {
        "id": "nWZrCCneVZey"
      }
    },
    {
      "cell_type": "code",
      "source": [
        "iris.info()"
      ],
      "metadata": {
        "colab": {
          "base_uri": "https://localhost:8080/"
        },
        "id": "9f2YiF3MVXuN",
        "outputId": "b6830801-4203-48ad-c48f-eb0237652786"
      },
      "execution_count": 18,
      "outputs": [
        {
          "output_type": "stream",
          "name": "stdout",
          "text": [
            "<class 'pandas.core.frame.DataFrame'>\n",
            "RangeIndex: 150 entries, 0 to 149\n",
            "Data columns (total 5 columns):\n",
            " #   Column        Non-Null Count  Dtype  \n",
            "---  ------        --------------  -----  \n",
            " 0   sepal length  150 non-null    float64\n",
            " 1   sepal width   150 non-null    float64\n",
            " 2   petal length  150 non-null    float64\n",
            " 3   petal width   150 non-null    float64\n",
            " 4   target        150 non-null    object \n",
            "dtypes: float64(4), object(1)\n",
            "memory usage: 6.0+ KB\n"
          ]
        }
      ]
    },
    {
      "cell_type": "code",
      "source": [
        "iris[\"target\"].value_counts()"
      ],
      "metadata": {
        "colab": {
          "base_uri": "https://localhost:8080/"
        },
        "id": "gPlYHsj3VkMP",
        "outputId": "81d73a6e-3c3c-40c7-f1a8-fd10ba9e37ae"
      },
      "execution_count": 19,
      "outputs": [
        {
          "output_type": "execute_result",
          "data": {
            "text/plain": [
              "Iris-setosa        50\n",
              "Iris-versicolor    50\n",
              "Iris-virginica     50\n",
              "Name: target, dtype: int64"
            ]
          },
          "metadata": {},
          "execution_count": 19
        }
      ]
    },
    {
      "cell_type": "code",
      "source": [
        "from sklearn.model_selection import train_test_split"
      ],
      "metadata": {
        "id": "gP1jGJR4VlBW"
      },
      "execution_count": 20,
      "outputs": []
    },
    {
      "cell_type": "code",
      "source": [
        "X_train, X_test = train_test_split(iris, test_size=0.3, shuffle=True, stratify=iris[\"target\"], random_state=1004)"
      ],
      "metadata": {
        "id": "tAye4iV4VmNZ"
      },
      "execution_count": 22,
      "outputs": []
    },
    {
      "cell_type": "code",
      "source": [
        "X_train"
      ],
      "metadata": {
        "colab": {
          "base_uri": "https://localhost:8080/",
          "height": 423
        },
        "id": "Si_FHM7QVne7",
        "outputId": "e6c107a6-a2aa-45f8-f771-e3725f68152d"
      },
      "execution_count": 23,
      "outputs": [
        {
          "output_type": "execute_result",
          "data": {
            "text/plain": [
              "     sepal length  sepal width  petal length  petal width           target\n",
              "113           5.7          2.5           5.0          2.0   Iris-virginica\n",
              "100           6.3          3.3           6.0          2.5   Iris-virginica\n",
              "146           6.3          2.5           5.0          1.9   Iris-virginica\n",
              "9             4.9          3.1           1.5          0.1      Iris-setosa\n",
              "81            5.5          2.4           3.7          1.0  Iris-versicolor\n",
              "..            ...          ...           ...          ...              ...\n",
              "82            5.8          2.7           3.9          1.2  Iris-versicolor\n",
              "90            5.5          2.6           4.4          1.2  Iris-versicolor\n",
              "80            5.5          2.4           3.8          1.1  Iris-versicolor\n",
              "67            5.8          2.7           4.1          1.0  Iris-versicolor\n",
              "147           6.5          3.0           5.2          2.0   Iris-virginica\n",
              "\n",
              "[105 rows x 5 columns]"
            ],
            "text/html": [
              "\n",
              "  <div id=\"df-3d8053b2-3496-40a0-8508-b98009586c0d\">\n",
              "    <div class=\"colab-df-container\">\n",
              "      <div>\n",
              "<style scoped>\n",
              "    .dataframe tbody tr th:only-of-type {\n",
              "        vertical-align: middle;\n",
              "    }\n",
              "\n",
              "    .dataframe tbody tr th {\n",
              "        vertical-align: top;\n",
              "    }\n",
              "\n",
              "    .dataframe thead th {\n",
              "        text-align: right;\n",
              "    }\n",
              "</style>\n",
              "<table border=\"1\" class=\"dataframe\">\n",
              "  <thead>\n",
              "    <tr style=\"text-align: right;\">\n",
              "      <th></th>\n",
              "      <th>sepal length</th>\n",
              "      <th>sepal width</th>\n",
              "      <th>petal length</th>\n",
              "      <th>petal width</th>\n",
              "      <th>target</th>\n",
              "    </tr>\n",
              "  </thead>\n",
              "  <tbody>\n",
              "    <tr>\n",
              "      <th>113</th>\n",
              "      <td>5.7</td>\n",
              "      <td>2.5</td>\n",
              "      <td>5.0</td>\n",
              "      <td>2.0</td>\n",
              "      <td>Iris-virginica</td>\n",
              "    </tr>\n",
              "    <tr>\n",
              "      <th>100</th>\n",
              "      <td>6.3</td>\n",
              "      <td>3.3</td>\n",
              "      <td>6.0</td>\n",
              "      <td>2.5</td>\n",
              "      <td>Iris-virginica</td>\n",
              "    </tr>\n",
              "    <tr>\n",
              "      <th>146</th>\n",
              "      <td>6.3</td>\n",
              "      <td>2.5</td>\n",
              "      <td>5.0</td>\n",
              "      <td>1.9</td>\n",
              "      <td>Iris-virginica</td>\n",
              "    </tr>\n",
              "    <tr>\n",
              "      <th>9</th>\n",
              "      <td>4.9</td>\n",
              "      <td>3.1</td>\n",
              "      <td>1.5</td>\n",
              "      <td>0.1</td>\n",
              "      <td>Iris-setosa</td>\n",
              "    </tr>\n",
              "    <tr>\n",
              "      <th>81</th>\n",
              "      <td>5.5</td>\n",
              "      <td>2.4</td>\n",
              "      <td>3.7</td>\n",
              "      <td>1.0</td>\n",
              "      <td>Iris-versicolor</td>\n",
              "    </tr>\n",
              "    <tr>\n",
              "      <th>...</th>\n",
              "      <td>...</td>\n",
              "      <td>...</td>\n",
              "      <td>...</td>\n",
              "      <td>...</td>\n",
              "      <td>...</td>\n",
              "    </tr>\n",
              "    <tr>\n",
              "      <th>82</th>\n",
              "      <td>5.8</td>\n",
              "      <td>2.7</td>\n",
              "      <td>3.9</td>\n",
              "      <td>1.2</td>\n",
              "      <td>Iris-versicolor</td>\n",
              "    </tr>\n",
              "    <tr>\n",
              "      <th>90</th>\n",
              "      <td>5.5</td>\n",
              "      <td>2.6</td>\n",
              "      <td>4.4</td>\n",
              "      <td>1.2</td>\n",
              "      <td>Iris-versicolor</td>\n",
              "    </tr>\n",
              "    <tr>\n",
              "      <th>80</th>\n",
              "      <td>5.5</td>\n",
              "      <td>2.4</td>\n",
              "      <td>3.8</td>\n",
              "      <td>1.1</td>\n",
              "      <td>Iris-versicolor</td>\n",
              "    </tr>\n",
              "    <tr>\n",
              "      <th>67</th>\n",
              "      <td>5.8</td>\n",
              "      <td>2.7</td>\n",
              "      <td>4.1</td>\n",
              "      <td>1.0</td>\n",
              "      <td>Iris-versicolor</td>\n",
              "    </tr>\n",
              "    <tr>\n",
              "      <th>147</th>\n",
              "      <td>6.5</td>\n",
              "      <td>3.0</td>\n",
              "      <td>5.2</td>\n",
              "      <td>2.0</td>\n",
              "      <td>Iris-virginica</td>\n",
              "    </tr>\n",
              "  </tbody>\n",
              "</table>\n",
              "<p>105 rows × 5 columns</p>\n",
              "</div>\n",
              "      <button class=\"colab-df-convert\" onclick=\"convertToInteractive('df-3d8053b2-3496-40a0-8508-b98009586c0d')\"\n",
              "              title=\"Convert this dataframe to an interactive table.\"\n",
              "              style=\"display:none;\">\n",
              "        \n",
              "  <svg xmlns=\"http://www.w3.org/2000/svg\" height=\"24px\"viewBox=\"0 0 24 24\"\n",
              "       width=\"24px\">\n",
              "    <path d=\"M0 0h24v24H0V0z\" fill=\"none\"/>\n",
              "    <path d=\"M18.56 5.44l.94 2.06.94-2.06 2.06-.94-2.06-.94-.94-2.06-.94 2.06-2.06.94zm-11 1L8.5 8.5l.94-2.06 2.06-.94-2.06-.94L8.5 2.5l-.94 2.06-2.06.94zm10 10l.94 2.06.94-2.06 2.06-.94-2.06-.94-.94-2.06-.94 2.06-2.06.94z\"/><path d=\"M17.41 7.96l-1.37-1.37c-.4-.4-.92-.59-1.43-.59-.52 0-1.04.2-1.43.59L10.3 9.45l-7.72 7.72c-.78.78-.78 2.05 0 2.83L4 21.41c.39.39.9.59 1.41.59.51 0 1.02-.2 1.41-.59l7.78-7.78 2.81-2.81c.8-.78.8-2.07 0-2.86zM5.41 20L4 18.59l7.72-7.72 1.47 1.35L5.41 20z\"/>\n",
              "  </svg>\n",
              "      </button>\n",
              "      \n",
              "  <style>\n",
              "    .colab-df-container {\n",
              "      display:flex;\n",
              "      flex-wrap:wrap;\n",
              "      gap: 12px;\n",
              "    }\n",
              "\n",
              "    .colab-df-convert {\n",
              "      background-color: #E8F0FE;\n",
              "      border: none;\n",
              "      border-radius: 50%;\n",
              "      cursor: pointer;\n",
              "      display: none;\n",
              "      fill: #1967D2;\n",
              "      height: 32px;\n",
              "      padding: 0 0 0 0;\n",
              "      width: 32px;\n",
              "    }\n",
              "\n",
              "    .colab-df-convert:hover {\n",
              "      background-color: #E2EBFA;\n",
              "      box-shadow: 0px 1px 2px rgba(60, 64, 67, 0.3), 0px 1px 3px 1px rgba(60, 64, 67, 0.15);\n",
              "      fill: #174EA6;\n",
              "    }\n",
              "\n",
              "    [theme=dark] .colab-df-convert {\n",
              "      background-color: #3B4455;\n",
              "      fill: #D2E3FC;\n",
              "    }\n",
              "\n",
              "    [theme=dark] .colab-df-convert:hover {\n",
              "      background-color: #434B5C;\n",
              "      box-shadow: 0px 1px 3px 1px rgba(0, 0, 0, 0.15);\n",
              "      filter: drop-shadow(0px 1px 2px rgba(0, 0, 0, 0.3));\n",
              "      fill: #FFFFFF;\n",
              "    }\n",
              "  </style>\n",
              "\n",
              "      <script>\n",
              "        const buttonEl =\n",
              "          document.querySelector('#df-3d8053b2-3496-40a0-8508-b98009586c0d button.colab-df-convert');\n",
              "        buttonEl.style.display =\n",
              "          google.colab.kernel.accessAllowed ? 'block' : 'none';\n",
              "\n",
              "        async function convertToInteractive(key) {\n",
              "          const element = document.querySelector('#df-3d8053b2-3496-40a0-8508-b98009586c0d');\n",
              "          const dataTable =\n",
              "            await google.colab.kernel.invokeFunction('convertToInteractive',\n",
              "                                                     [key], {});\n",
              "          if (!dataTable) return;\n",
              "\n",
              "          const docLinkHtml = 'Like what you see? Visit the ' +\n",
              "            '<a target=\"_blank\" href=https://colab.research.google.com/notebooks/data_table.ipynb>data table notebook</a>'\n",
              "            + ' to learn more about interactive tables.';\n",
              "          element.innerHTML = '';\n",
              "          dataTable['output_type'] = 'display_data';\n",
              "          await google.colab.output.renderOutput(dataTable, element);\n",
              "          const docLink = document.createElement('div');\n",
              "          docLink.innerHTML = docLinkHtml;\n",
              "          element.appendChild(docLink);\n",
              "        }\n",
              "      </script>\n",
              "    </div>\n",
              "  </div>\n",
              "  "
            ]
          },
          "metadata": {},
          "execution_count": 23
        }
      ]
    },
    {
      "cell_type": "code",
      "source": [
        "X_test[\"target\"].value_counts()"
      ],
      "metadata": {
        "colab": {
          "base_uri": "https://localhost:8080/"
        },
        "id": "3btRlEqrVogs",
        "outputId": "69589105-dc83-424e-88e0-ae4bf47f98d8"
      },
      "execution_count": 24,
      "outputs": [
        {
          "output_type": "execute_result",
          "data": {
            "text/plain": [
              "Iris-versicolor    15\n",
              "Iris-setosa        15\n",
              "Iris-virginica     15\n",
              "Name: target, dtype: int64"
            ]
          },
          "metadata": {},
          "execution_count": 24
        }
      ]
    },
    {
      "cell_type": "code",
      "source": [
        "X_test.index.sort_values()"
      ],
      "metadata": {
        "colab": {
          "base_uri": "https://localhost:8080/"
        },
        "id": "Ti0YaMfpVqkF",
        "outputId": "eda1cdbe-8dd4-427a-887a-74bd6528783e"
      },
      "execution_count": 25,
      "outputs": [
        {
          "output_type": "execute_result",
          "data": {
            "text/plain": [
              "Int64Index([  2,   5,   7,   8,  11,  12,  14,  20,  21,  23,  26,  31,  40,\n",
              "             47,  49,  57,  63,  69,  73,  76,  77,  79,  83,  84,  91,  92,\n",
              "             93,  94,  95,  97, 104, 106, 110, 112, 114, 116, 120, 122, 124,\n",
              "            127, 131, 132, 135, 141, 145],\n",
              "           dtype='int64')"
            ]
          },
          "metadata": {},
          "execution_count": 25
        }
      ]
    },
    {
      "cell_type": "code",
      "source": [
        "X_train.index.sort_values()"
      ],
      "metadata": {
        "colab": {
          "base_uri": "https://localhost:8080/"
        },
        "id": "sRglwDh1VrRe",
        "outputId": "1db26429-6a1e-4138-a188-9034526e7b7d"
      },
      "execution_count": 26,
      "outputs": [
        {
          "output_type": "execute_result",
          "data": {
            "text/plain": [
              "Int64Index([  0,   1,   3,   4,   6,   9,  10,  13,  15,  16,\n",
              "            ...\n",
              "            138, 139, 140, 142, 143, 144, 146, 147, 148, 149],\n",
              "           dtype='int64', length=105)"
            ]
          },
          "metadata": {},
          "execution_count": 26
        }
      ]
    },
    {
      "cell_type": "code",
      "source": [
        "X_train[\"target\"].value_counts()"
      ],
      "metadata": {
        "colab": {
          "base_uri": "https://localhost:8080/"
        },
        "id": "arV_gwFHVsgh",
        "outputId": "16416a95-3238-442f-80c5-d149617dfd0f"
      },
      "execution_count": 27,
      "outputs": [
        {
          "output_type": "execute_result",
          "data": {
            "text/plain": [
              "Iris-virginica     35\n",
              "Iris-setosa        35\n",
              "Iris-versicolor    35\n",
              "Name: target, dtype: int64"
            ]
          },
          "metadata": {},
          "execution_count": 27
        }
      ]
    },
    {
      "cell_type": "markdown",
      "source": [
        "# 언더 샘플링 & 오버 샘플링\n",
        "\n",
        "# 언더샘플링\n",
        "- 다수 클래스 의 샘플은 소수 클래스와 비교할 때 분포 비율과 일치하도록 무작위로 제거함.\n",
        "- 2개의 클래스의 비율을 맞추기 위해 귀중한 정보를 잃어버리고 편향될 수 있기 때문에 일반적으로 선호되지 않음\n",
        "\n",
        "\n",
        "# 오버 샘플링\n",
        "- 소수 클래스의 샘플을 증가시켜 마이너 클래스와 메이저 클래스의 샘플 크기를 동일하게 만드는 기법 \n",
        "- 랜덤 오버샘플링(소수 샘플 복제)은 동일한 정보를 복사하여 오버피팅을 유발할 수 있음 \n",
        "\n",
        "\n",
        "# SMOTE(Synthetic Minority Over-sampling Technique)\n",
        "- 소수 클래스의 기존 샘플을 사용하여 새로운 합성 관찰을 생성 하는 오버 샘플링 기법 소수 클래스에 대한 선형 보간법으로 가상 훈련 기록을 생성. \n",
        "- 합성 훈련 기록은 소수 클래스의 각 예에 대해 k-최근접 이웃 중 하나 이상을 무작위로 선택하여 생성.\n",
        "- 오버샘플링 과정을 거친 후 데이터를 재구성하고 처리된 데이터에 대해 여러 분류 모델을 적용할 수 있음\n",
        "- 데이터의 특성에 따라 다르겠지만, 빅데이터 분석을 위해서는 많은 데이터 확보가 효과적이므로 오버샘플링 기법을 적용하는 것이 좋음.\n",
        "- 기존의 데이터가 적은 새로운 사례의 데이터에서 사용하기 어려움."
      ],
      "metadata": {
        "id": "P0qiATXkVuM5"
      }
    },
    {
      "cell_type": "markdown",
      "source": [
        "![스크린샷 2023-05-22 022714.png](data:image/png;base64,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)"
      ],
      "metadata": {
        "id": "1e8guatvWbKl"
      }
    },
    {
      "cell_type": "code",
      "source": [
        "df_t = pd.read_csv('/content/drive/MyDrive/ADP/Part.1/2.데이터_핸들링/data/titanic.csv')"
      ],
      "metadata": {
        "id": "nbh9nrZ_VtKI"
      },
      "execution_count": 28,
      "outputs": []
    },
    {
      "cell_type": "code",
      "source": [
        "df_t['survived'].value_counts()"
      ],
      "metadata": {
        "colab": {
          "base_uri": "https://localhost:8080/"
        },
        "id": "3xsJ_EhjWm-C",
        "outputId": "9103e87b-0320-476d-b667-c422f64a9b57"
      },
      "execution_count": 29,
      "outputs": [
        {
          "output_type": "execute_result",
          "data": {
            "text/plain": [
              "0    549\n",
              "1    342\n",
              "Name: survived, dtype: int64"
            ]
          },
          "metadata": {},
          "execution_count": 29
        }
      ]
    },
    {
      "cell_type": "code",
      "source": [
        "from imblearn.over_sampling import SMOTE"
      ],
      "metadata": {
        "id": "rJ1E3YtRWopW"
      },
      "execution_count": 30,
      "outputs": []
    },
    {
      "cell_type": "code",
      "source": [
        "df_t = df_t.dropna()"
      ],
      "metadata": {
        "id": "vD2NlO41Wplo"
      },
      "execution_count": 31,
      "outputs": []
    },
    {
      "cell_type": "code",
      "source": [
        "df_t"
      ],
      "metadata": {
        "colab": {
          "base_uri": "https://localhost:8080/",
          "height": 423
        },
        "id": "xwn73kPhWrkV",
        "outputId": "80168292-0aa7-4582-9869-2f028fd8b864"
      },
      "execution_count": 32,
      "outputs": [
        {
          "output_type": "execute_result",
          "data": {
            "text/plain": [
              "     survived  pclass     sex   age  sibsp  parch     fare embarked   class  \\\n",
              "0           0       3    male  22.0      1      0   7.2500        S   Third   \n",
              "1           1       1  female  38.0      1      0  71.2833        C   First   \n",
              "2           1       3  female  26.0      0      0   7.9250        S   Third   \n",
              "3           1       1  female  35.0      1      0  53.1000        S   First   \n",
              "4           0       3    male  35.0      0      0   8.0500        S   Third   \n",
              "..        ...     ...     ...   ...    ...    ...      ...      ...     ...   \n",
              "885         0       3  female  39.0      0      5  29.1250        Q   Third   \n",
              "886         0       2    male  27.0      0      0  13.0000        S  Second   \n",
              "887         1       1  female  19.0      0      0  30.0000        S   First   \n",
              "889         1       1    male  26.0      0      0  30.0000        C   First   \n",
              "890         0       3    male  32.0      0      0   7.7500        Q   Third   \n",
              "\n",
              "     adult_male  embark_town  \n",
              "0          True  Southampton  \n",
              "1         False    Cherbourg  \n",
              "2         False  Southampton  \n",
              "3         False  Southampton  \n",
              "4          True  Southampton  \n",
              "..          ...          ...  \n",
              "885       False   Queenstown  \n",
              "886        True  Southampton  \n",
              "887       False  Southampton  \n",
              "889        True    Cherbourg  \n",
              "890        True   Queenstown  \n",
              "\n",
              "[712 rows x 11 columns]"
            ],
            "text/html": [
              "\n",
              "  <div id=\"df-5540e730-cf56-42c1-b1d3-579249640a92\">\n",
              "    <div class=\"colab-df-container\">\n",
              "      <div>\n",
              "<style scoped>\n",
              "    .dataframe tbody tr th:only-of-type {\n",
              "        vertical-align: middle;\n",
              "    }\n",
              "\n",
              "    .dataframe tbody tr th {\n",
              "        vertical-align: top;\n",
              "    }\n",
              "\n",
              "    .dataframe thead th {\n",
              "        text-align: right;\n",
              "    }\n",
              "</style>\n",
              "<table border=\"1\" class=\"dataframe\">\n",
              "  <thead>\n",
              "    <tr style=\"text-align: right;\">\n",
              "      <th></th>\n",
              "      <th>survived</th>\n",
              "      <th>pclass</th>\n",
              "      <th>sex</th>\n",
              "      <th>age</th>\n",
              "      <th>sibsp</th>\n",
              "      <th>parch</th>\n",
              "      <th>fare</th>\n",
              "      <th>embarked</th>\n",
              "      <th>class</th>\n",
              "      <th>adult_male</th>\n",
              "      <th>embark_town</th>\n",
              "    </tr>\n",
              "  </thead>\n",
              "  <tbody>\n",
              "    <tr>\n",
              "      <th>0</th>\n",
              "      <td>0</td>\n",
              "      <td>3</td>\n",
              "      <td>male</td>\n",
              "      <td>22.0</td>\n",
              "      <td>1</td>\n",
              "      <td>0</td>\n",
              "      <td>7.2500</td>\n",
              "      <td>S</td>\n",
              "      <td>Third</td>\n",
              "      <td>True</td>\n",
              "      <td>Southampton</td>\n",
              "    </tr>\n",
              "    <tr>\n",
              "      <th>1</th>\n",
              "      <td>1</td>\n",
              "      <td>1</td>\n",
              "      <td>female</td>\n",
              "      <td>38.0</td>\n",
              "      <td>1</td>\n",
              "      <td>0</td>\n",
              "      <td>71.2833</td>\n",
              "      <td>C</td>\n",
              "      <td>First</td>\n",
              "      <td>False</td>\n",
              "      <td>Cherbourg</td>\n",
              "    </tr>\n",
              "    <tr>\n",
              "      <th>2</th>\n",
              "      <td>1</td>\n",
              "      <td>3</td>\n",
              "      <td>female</td>\n",
              "      <td>26.0</td>\n",
              "      <td>0</td>\n",
              "      <td>0</td>\n",
              "      <td>7.9250</td>\n",
              "      <td>S</td>\n",
              "      <td>Third</td>\n",
              "      <td>False</td>\n",
              "      <td>Southampton</td>\n",
              "    </tr>\n",
              "    <tr>\n",
              "      <th>3</th>\n",
              "      <td>1</td>\n",
              "      <td>1</td>\n",
              "      <td>female</td>\n",
              "      <td>35.0</td>\n",
              "      <td>1</td>\n",
              "      <td>0</td>\n",
              "      <td>53.1000</td>\n",
              "      <td>S</td>\n",
              "      <td>First</td>\n",
              "      <td>False</td>\n",
              "      <td>Southampton</td>\n",
              "    </tr>\n",
              "    <tr>\n",
              "      <th>4</th>\n",
              "      <td>0</td>\n",
              "      <td>3</td>\n",
              "      <td>male</td>\n",
              "      <td>35.0</td>\n",
              "      <td>0</td>\n",
              "      <td>0</td>\n",
              "      <td>8.0500</td>\n",
              "      <td>S</td>\n",
              "      <td>Third</td>\n",
              "      <td>True</td>\n",
              "      <td>Southampton</td>\n",
              "    </tr>\n",
              "    <tr>\n",
              "      <th>...</th>\n",
              "      <td>...</td>\n",
              "      <td>...</td>\n",
              "      <td>...</td>\n",
              "      <td>...</td>\n",
              "      <td>...</td>\n",
              "      <td>...</td>\n",
              "      <td>...</td>\n",
              "      <td>...</td>\n",
              "      <td>...</td>\n",
              "      <td>...</td>\n",
              "      <td>...</td>\n",
              "    </tr>\n",
              "    <tr>\n",
              "      <th>885</th>\n",
              "      <td>0</td>\n",
              "      <td>3</td>\n",
              "      <td>female</td>\n",
              "      <td>39.0</td>\n",
              "      <td>0</td>\n",
              "      <td>5</td>\n",
              "      <td>29.1250</td>\n",
              "      <td>Q</td>\n",
              "      <td>Third</td>\n",
              "      <td>False</td>\n",
              "      <td>Queenstown</td>\n",
              "    </tr>\n",
              "    <tr>\n",
              "      <th>886</th>\n",
              "      <td>0</td>\n",
              "      <td>2</td>\n",
              "      <td>male</td>\n",
              "      <td>27.0</td>\n",
              "      <td>0</td>\n",
              "      <td>0</td>\n",
              "      <td>13.0000</td>\n",
              "      <td>S</td>\n",
              "      <td>Second</td>\n",
              "      <td>True</td>\n",
              "      <td>Southampton</td>\n",
              "    </tr>\n",
              "    <tr>\n",
              "      <th>887</th>\n",
              "      <td>1</td>\n",
              "      <td>1</td>\n",
              "      <td>female</td>\n",
              "      <td>19.0</td>\n",
              "      <td>0</td>\n",
              "      <td>0</td>\n",
              "      <td>30.0000</td>\n",
              "      <td>S</td>\n",
              "      <td>First</td>\n",
              "      <td>False</td>\n",
              "      <td>Southampton</td>\n",
              "    </tr>\n",
              "    <tr>\n",
              "      <th>889</th>\n",
              "      <td>1</td>\n",
              "      <td>1</td>\n",
              "      <td>male</td>\n",
              "      <td>26.0</td>\n",
              "      <td>0</td>\n",
              "      <td>0</td>\n",
              "      <td>30.0000</td>\n",
              "      <td>C</td>\n",
              "      <td>First</td>\n",
              "      <td>True</td>\n",
              "      <td>Cherbourg</td>\n",
              "    </tr>\n",
              "    <tr>\n",
              "      <th>890</th>\n",
              "      <td>0</td>\n",
              "      <td>3</td>\n",
              "      <td>male</td>\n",
              "      <td>32.0</td>\n",
              "      <td>0</td>\n",
              "      <td>0</td>\n",
              "      <td>7.7500</td>\n",
              "      <td>Q</td>\n",
              "      <td>Third</td>\n",
              "      <td>True</td>\n",
              "      <td>Queenstown</td>\n",
              "    </tr>\n",
              "  </tbody>\n",
              "</table>\n",
              "<p>712 rows × 11 columns</p>\n",
              "</div>\n",
              "      <button class=\"colab-df-convert\" onclick=\"convertToInteractive('df-5540e730-cf56-42c1-b1d3-579249640a92')\"\n",
              "              title=\"Convert this dataframe to an interactive table.\"\n",
              "              style=\"display:none;\">\n",
              "        \n",
              "  <svg xmlns=\"http://www.w3.org/2000/svg\" height=\"24px\"viewBox=\"0 0 24 24\"\n",
              "       width=\"24px\">\n",
              "    <path d=\"M0 0h24v24H0V0z\" fill=\"none\"/>\n",
              "    <path d=\"M18.56 5.44l.94 2.06.94-2.06 2.06-.94-2.06-.94-.94-2.06-.94 2.06-2.06.94zm-11 1L8.5 8.5l.94-2.06 2.06-.94-2.06-.94L8.5 2.5l-.94 2.06-2.06.94zm10 10l.94 2.06.94-2.06 2.06-.94-2.06-.94-.94-2.06-.94 2.06-2.06.94z\"/><path d=\"M17.41 7.96l-1.37-1.37c-.4-.4-.92-.59-1.43-.59-.52 0-1.04.2-1.43.59L10.3 9.45l-7.72 7.72c-.78.78-.78 2.05 0 2.83L4 21.41c.39.39.9.59 1.41.59.51 0 1.02-.2 1.41-.59l7.78-7.78 2.81-2.81c.8-.78.8-2.07 0-2.86zM5.41 20L4 18.59l7.72-7.72 1.47 1.35L5.41 20z\"/>\n",
              "  </svg>\n",
              "      </button>\n",
              "      \n",
              "  <style>\n",
              "    .colab-df-container {\n",
              "      display:flex;\n",
              "      flex-wrap:wrap;\n",
              "      gap: 12px;\n",
              "    }\n",
              "\n",
              "    .colab-df-convert {\n",
              "      background-color: #E8F0FE;\n",
              "      border: none;\n",
              "      border-radius: 50%;\n",
              "      cursor: pointer;\n",
              "      display: none;\n",
              "      fill: #1967D2;\n",
              "      height: 32px;\n",
              "      padding: 0 0 0 0;\n",
              "      width: 32px;\n",
              "    }\n",
              "\n",
              "    .colab-df-convert:hover {\n",
              "      background-color: #E2EBFA;\n",
              "      box-shadow: 0px 1px 2px rgba(60, 64, 67, 0.3), 0px 1px 3px 1px rgba(60, 64, 67, 0.15);\n",
              "      fill: #174EA6;\n",
              "    }\n",
              "\n",
              "    [theme=dark] .colab-df-convert {\n",
              "      background-color: #3B4455;\n",
              "      fill: #D2E3FC;\n",
              "    }\n",
              "\n",
              "    [theme=dark] .colab-df-convert:hover {\n",
              "      background-color: #434B5C;\n",
              "      box-shadow: 0px 1px 3px 1px rgba(0, 0, 0, 0.15);\n",
              "      filter: drop-shadow(0px 1px 2px rgba(0, 0, 0, 0.3));\n",
              "      fill: #FFFFFF;\n",
              "    }\n",
              "  </style>\n",
              "\n",
              "      <script>\n",
              "        const buttonEl =\n",
              "          document.querySelector('#df-5540e730-cf56-42c1-b1d3-579249640a92 button.colab-df-convert');\n",
              "        buttonEl.style.display =\n",
              "          google.colab.kernel.accessAllowed ? 'block' : 'none';\n",
              "\n",
              "        async function convertToInteractive(key) {\n",
              "          const element = document.querySelector('#df-5540e730-cf56-42c1-b1d3-579249640a92');\n",
              "          const dataTable =\n",
              "            await google.colab.kernel.invokeFunction('convertToInteractive',\n",
              "                                                     [key], {});\n",
              "          if (!dataTable) return;\n",
              "\n",
              "          const docLinkHtml = 'Like what you see? Visit the ' +\n",
              "            '<a target=\"_blank\" href=https://colab.research.google.com/notebooks/data_table.ipynb>data table notebook</a>'\n",
              "            + ' to learn more about interactive tables.';\n",
              "          element.innerHTML = '';\n",
              "          dataTable['output_type'] = 'display_data';\n",
              "          await google.colab.output.renderOutput(dataTable, element);\n",
              "          const docLink = document.createElement('div');\n",
              "          docLink.innerHTML = docLinkHtml;\n",
              "          element.appendChild(docLink);\n",
              "        }\n",
              "      </script>\n",
              "    </div>\n",
              "  </div>\n",
              "  "
            ]
          },
          "metadata": {},
          "execution_count": 32
        }
      ]
    },
    {
      "cell_type": "code",
      "source": [
        "X = df_t[['age','sibsp','parch','fare']]\n",
        "y = df_t['survived']"
      ],
      "metadata": {
        "id": "-Waw2dz9WsMy"
      },
      "execution_count": 33,
      "outputs": []
    },
    {
      "cell_type": "code",
      "source": [
        "from sklearn.model_selection import train_test_split\n",
        "\n",
        "X_train, X_test, y_train, y_test = train_test_split(X, y, test_size=0.3, shuffle=True, stratify=y, random_state=1004)"
      ],
      "metadata": {
        "id": "qLXxY3cEWtWU"
      },
      "execution_count": 34,
      "outputs": []
    },
    {
      "cell_type": "code",
      "source": [
        "from sklearn.preprocessing import MinMaxScaler\n",
        "\n",
        "scaler = MinMaxScaler(feature_range=(0, 1))\n",
        "\n",
        "X_train = scaler.fit_transform(X_train)"
      ],
      "metadata": {
        "id": "704qHq4qWvYG"
      },
      "execution_count": 35,
      "outputs": []
    },
    {
      "cell_type": "code",
      "source": [
        "X_train.shape"
      ],
      "metadata": {
        "colab": {
          "base_uri": "https://localhost:8080/"
        },
        "id": "7LvlAcupWwho",
        "outputId": "0cedae25-bd42-4871-98f4-23d8d88a457d"
      },
      "execution_count": 36,
      "outputs": [
        {
          "output_type": "execute_result",
          "data": {
            "text/plain": [
              "(498, 4)"
            ]
          },
          "metadata": {},
          "execution_count": 36
        }
      ]
    },
    {
      "cell_type": "code",
      "source": [
        "y_train.value_counts()"
      ],
      "metadata": {
        "colab": {
          "base_uri": "https://localhost:8080/"
        },
        "id": "5Eh6_m0-WxjQ",
        "outputId": "56b315aa-ff18-4783-b2d2-eb7b8f66ab10"
      },
      "execution_count": 37,
      "outputs": [
        {
          "output_type": "execute_result",
          "data": {
            "text/plain": [
              "0    297\n",
              "1    201\n",
              "Name: survived, dtype: int64"
            ]
          },
          "metadata": {},
          "execution_count": 37
        }
      ]
    },
    {
      "cell_type": "code",
      "source": [
        "# 모델설정\n",
        "\n",
        "sm = SMOTE( k_neighbors=5)"
      ],
      "metadata": {
        "id": "bIdLoBf7Wydt"
      },
      "execution_count": 38,
      "outputs": []
    },
    {
      "cell_type": "code",
      "source": [
        "# train데이터를 넣어 복제함\n",
        "\n",
        "X_resampled, y_resampled = sm.fit_resample(X_train,y_train)\n",
        "\n",
        "print('After OverSampling, the shape of train_X: {}'.format(X_resampled.shape))\n",
        "print('After OverSampling, the shape of train_y: {} \\n'.format(y_resampled.shape))\n",
        "\n",
        "print(\"After OverSampling, counts of label '1': {}\".format(sum(y_resampled==1)))\n",
        "print(\"After OverSampling, counts of label '0': {}\".format(sum(y_resampled==0)))"
      ],
      "metadata": {
        "colab": {
          "base_uri": "https://localhost:8080/"
        },
        "id": "GrcqRL3sWzvw",
        "outputId": "fbf7702e-b3f6-4485-9e62-af2e43a4db0a"
      },
      "execution_count": 39,
      "outputs": [
        {
          "output_type": "stream",
          "name": "stdout",
          "text": [
            "After OverSampling, the shape of train_X: (594, 4)\n",
            "After OverSampling, the shape of train_y: (594,) \n",
            "\n",
            "After OverSampling, counts of label '1': 297\n",
            "After OverSampling, counts of label '0': 297\n"
          ]
        }
      ]
    },
    {
      "cell_type": "code",
      "source": [],
      "metadata": {
        "id": "tWkgtgzAW1br"
      },
      "execution_count": null,
      "outputs": []
    }
  ]
}